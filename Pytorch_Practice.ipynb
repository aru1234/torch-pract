{
  "nbformat": 4,
  "nbformat_minor": 0,
  "metadata": {
    "colab": {
      "provenance": [],
      "authorship_tag": "ABX9TyOgfywDEkdsyCci8LvaYRC5",
      "include_colab_link": true
    },
    "kernelspec": {
      "name": "python3",
      "display_name": "Python 3"
    },
    "language_info": {
      "name": "python"
    }
  },
  "cells": [
    {
      "cell_type": "markdown",
      "metadata": {
        "id": "view-in-github",
        "colab_type": "text"
      },
      "source": [
        "<a href=\"https://colab.research.google.com/github/aru1234/torch-pract/blob/main/Pytorch_Practice.ipynb\" target=\"_parent\"><img src=\"https://colab.research.google.com/assets/colab-badge.svg\" alt=\"Open In Colab\"/></a>"
      ]
    },
    {
      "cell_type": "code",
      "execution_count": null,
      "metadata": {
        "colab": {
          "base_uri": "https://localhost:8080/"
        },
        "id": "bt9vHsHloyn8",
        "outputId": "ab55e8da-40c3-4aba-8438-9980e77232db"
      },
      "outputs": [
        {
          "output_type": "execute_result",
          "data": {
            "text/plain": [
              "tensor(18)"
            ]
          },
          "metadata": {},
          "execution_count": 1
        }
      ],
      "source": [
        "import torch\n",
        "scalar = torch.tensor(18)\n",
        "scalar"
      ]
    },
    {
      "cell_type": "code",
      "source": [
        "vector = torch.tensor([4,18])\n",
        "vector"
      ],
      "metadata": {
        "colab": {
          "base_uri": "https://localhost:8080/"
        },
        "id": "n7X1mlNC1TXZ",
        "outputId": "66793123-e672-4a36-d2c7-e38e2e821086"
      },
      "execution_count": null,
      "outputs": [
        {
          "output_type": "execute_result",
          "data": {
            "text/plain": [
              "tensor([ 4, 18])"
            ]
          },
          "metadata": {},
          "execution_count": 2
        }
      ]
    },
    {
      "cell_type": "code",
      "source": [
        "matrix = torch.tensor([[2,1],[3,2]])\n",
        "matrix"
      ],
      "metadata": {
        "colab": {
          "base_uri": "https://localhost:8080/"
        },
        "id": "E0vo1b-n1hfS",
        "outputId": "28b46aba-3f1d-48fe-ba1e-5b4bb76cd136"
      },
      "execution_count": null,
      "outputs": [
        {
          "output_type": "execute_result",
          "data": {
            "text/plain": [
              "tensor([[2, 1],\n",
              "        [3, 2]])"
            ]
          },
          "metadata": {},
          "execution_count": 3
        }
      ]
    },
    {
      "cell_type": "code",
      "source": [
        "print(matrix.ndim)\n",
        "print(vector.ndim)\n",
        "print(scalar.ndim)"
      ],
      "metadata": {
        "colab": {
          "base_uri": "https://localhost:8080/"
        },
        "id": "3RsWnrPT1sPw",
        "outputId": "6314f1bb-2357-419a-c9c5-5fb0c9c2cb74"
      },
      "execution_count": null,
      "outputs": [
        {
          "output_type": "stream",
          "name": "stdout",
          "text": [
            "2\n",
            "1\n",
            "0\n"
          ]
        }
      ]
    },
    {
      "cell_type": "code",
      "source": [
        "print(matrix.shape)\n",
        "print(vector.shape)\n",
        "print(scalar.shape)"
      ],
      "metadata": {
        "colab": {
          "base_uri": "https://localhost:8080/"
        },
        "id": "LcbdWeAD17-g",
        "outputId": "1dcadd0e-a077-42a2-92b5-610f6438b406"
      },
      "execution_count": null,
      "outputs": [
        {
          "output_type": "stream",
          "name": "stdout",
          "text": [
            "torch.Size([2, 2])\n",
            "torch.Size([2])\n",
            "torch.Size([])\n"
          ]
        }
      ]
    },
    {
      "cell_type": "code",
      "source": [
        "MATRIX = torch.tensor([[[1,2,3],\n",
        "                        [4,5,6],\n",
        "                        [7,8,9]]])\n",
        "MATRIX"
      ],
      "metadata": {
        "colab": {
          "base_uri": "https://localhost:8080/"
        },
        "id": "H9jlpWG-3dcB",
        "outputId": "b9061b22-8187-4aa6-d9e0-dc21e9ff580e"
      },
      "execution_count": null,
      "outputs": [
        {
          "output_type": "execute_result",
          "data": {
            "text/plain": [
              "tensor([[[1, 2, 3],\n",
              "         [4, 5, 6],\n",
              "         [7, 8, 9]]])"
            ]
          },
          "metadata": {},
          "execution_count": 6
        }
      ]
    },
    {
      "cell_type": "code",
      "source": [
        "print(MATRIX.ndim)\n",
        "print(MATRIX.shape)\n",
        "print(MATRIX[0])"
      ],
      "metadata": {
        "colab": {
          "base_uri": "https://localhost:8080/"
        },
        "id": "YbvgEXof4jBa",
        "outputId": "63563d55-34f2-459e-f419-1e3df079f3ef"
      },
      "execution_count": null,
      "outputs": [
        {
          "output_type": "stream",
          "name": "stdout",
          "text": [
            "3\n",
            "torch.Size([1, 3, 3])\n",
            "tensor([[1, 2, 3],\n",
            "        [4, 5, 6],\n",
            "        [7, 8, 9]])\n"
          ]
        }
      ]
    },
    {
      "cell_type": "code",
      "source": [
        "print(MATRIX[0][2][0])"
      ],
      "metadata": {
        "colab": {
          "base_uri": "https://localhost:8080/"
        },
        "id": "vBK5JjUD48Ax",
        "outputId": "f48cac09-c19d-4515-fe80-9070a908076c"
      },
      "execution_count": null,
      "outputs": [
        {
          "output_type": "stream",
          "name": "stdout",
          "text": [
            "tensor(7)\n"
          ]
        }
      ]
    },
    {
      "cell_type": "code",
      "source": [
        "random_tensor = torch.rand(size=(3,4))\n",
        "random_tensor, random_tensor.dtype"
      ],
      "metadata": {
        "colab": {
          "base_uri": "https://localhost:8080/"
        },
        "id": "Y73-dpunZQCC",
        "outputId": "b884a73c-86b5-43d6-a35e-65a9bfdd8652"
      },
      "execution_count": null,
      "outputs": [
        {
          "output_type": "execute_result",
          "data": {
            "text/plain": [
              "(tensor([[0.5156, 0.5743, 0.3836, 0.3800],\n",
              "         [0.9462, 0.3814, 0.2397, 0.8319],\n",
              "         [0.3510, 0.5172, 0.1545, 0.5154]]), torch.float32)"
            ]
          },
          "metadata": {},
          "execution_count": 9
        }
      ]
    },
    {
      "cell_type": "code",
      "source": [
        "random_image_size_tensor = torch.rand(224,224,3)\n",
        "random_image_size_tensor"
      ],
      "metadata": {
        "colab": {
          "base_uri": "https://localhost:8080/"
        },
        "id": "T97N1FasZsHx",
        "outputId": "9a3bea67-07c7-4f49-a212-1cd0c063b7d2"
      },
      "execution_count": null,
      "outputs": [
        {
          "output_type": "execute_result",
          "data": {
            "text/plain": [
              "tensor([[[0.5720, 0.7679, 0.4847],\n",
              "         [0.5941, 0.0846, 0.1547],\n",
              "         [0.9049, 0.1304, 0.3689],\n",
              "         ...,\n",
              "         [0.4967, 0.4916, 0.5944],\n",
              "         [0.4833, 0.9479, 0.6499],\n",
              "         [0.7261, 0.1071, 0.4291]],\n",
              "\n",
              "        [[0.5990, 0.7455, 0.9303],\n",
              "         [0.0488, 0.1918, 0.0297],\n",
              "         [0.1886, 0.6685, 0.6446],\n",
              "         ...,\n",
              "         [0.3672, 0.1021, 0.2289],\n",
              "         [0.8592, 0.8227, 0.4682],\n",
              "         [0.3945, 0.4627, 0.2642]],\n",
              "\n",
              "        [[0.0021, 0.6156, 0.0395],\n",
              "         [0.7911, 0.6408, 0.0713],\n",
              "         [0.1652, 0.5578, 0.9717],\n",
              "         ...,\n",
              "         [0.5857, 0.2554, 0.1973],\n",
              "         [0.8744, 0.3003, 0.0021],\n",
              "         [0.8927, 0.8764, 0.4347]],\n",
              "\n",
              "        ...,\n",
              "\n",
              "        [[0.6829, 0.8685, 0.3316],\n",
              "         [0.2014, 0.3944, 0.1210],\n",
              "         [0.4771, 0.8319, 0.1582],\n",
              "         ...,\n",
              "         [0.6349, 0.9182, 0.9153],\n",
              "         [0.9793, 0.4826, 0.2702],\n",
              "         [0.6666, 0.9140, 0.3310]],\n",
              "\n",
              "        [[0.6284, 0.2155, 0.8641],\n",
              "         [0.9350, 0.7974, 0.3493],\n",
              "         [0.2746, 0.8969, 0.7675],\n",
              "         ...,\n",
              "         [0.4033, 0.3472, 0.9752],\n",
              "         [0.1964, 0.6903, 0.8054],\n",
              "         [0.4412, 0.4422, 0.7893]],\n",
              "\n",
              "        [[0.4376, 0.8474, 0.0766],\n",
              "         [0.8170, 0.8097, 0.1993],\n",
              "         [0.2301, 0.0956, 0.9297],\n",
              "         ...,\n",
              "         [0.3119, 0.5583, 0.8963],\n",
              "         [0.0538, 0.1666, 0.3260],\n",
              "         [0.0170, 0.8288, 0.7568]]])"
            ]
          },
          "metadata": {},
          "execution_count": 11
        }
      ]
    },
    {
      "cell_type": "code",
      "source": [
        "random_image_size_tensor.shape"
      ],
      "metadata": {
        "colab": {
          "base_uri": "https://localhost:8080/"
        },
        "id": "F_zSMDYgZjri",
        "outputId": "770148f2-ca6e-4ec8-f8e4-67ec0414a36d"
      },
      "execution_count": null,
      "outputs": [
        {
          "output_type": "execute_result",
          "data": {
            "text/plain": [
              "torch.Size([224, 224, 3])"
            ]
          },
          "metadata": {},
          "execution_count": 12
        }
      ]
    },
    {
      "cell_type": "code",
      "source": [
        "random_image_size_tensor[2]"
      ],
      "metadata": {
        "colab": {
          "base_uri": "https://localhost:8080/"
        },
        "id": "VxifGDcoaIKN",
        "outputId": "6e05a804-2a51-401b-88d1-ca51dcbc3ecc"
      },
      "execution_count": null,
      "outputs": [
        {
          "output_type": "execute_result",
          "data": {
            "text/plain": [
              "tensor([[0.0021, 0.6156, 0.0395],\n",
              "        [0.7911, 0.6408, 0.0713],\n",
              "        [0.1652, 0.5578, 0.9717],\n",
              "        [0.6491, 0.6039, 0.5319],\n",
              "        [0.8198, 0.2536, 0.3561],\n",
              "        [0.9510, 0.9565, 0.8273],\n",
              "        [0.0841, 0.0935, 0.0131],\n",
              "        [0.8328, 0.4526, 0.0880],\n",
              "        [0.5471, 0.2821, 0.9264],\n",
              "        [0.9139, 0.7587, 0.0467],\n",
              "        [0.8614, 0.6711, 0.1668],\n",
              "        [0.2719, 0.9626, 0.4834],\n",
              "        [0.9567, 0.1659, 0.8568],\n",
              "        [0.1077, 0.2152, 0.6431],\n",
              "        [0.4682, 0.3020, 0.3895],\n",
              "        [0.2811, 0.7768, 0.7626],\n",
              "        [0.3725, 0.1874, 0.6584],\n",
              "        [0.4455, 0.0619, 0.7313],\n",
              "        [0.9318, 0.0506, 0.8957],\n",
              "        [0.8496, 0.0130, 0.5498],\n",
              "        [0.1933, 0.0149, 0.3841],\n",
              "        [0.5849, 0.2296, 0.8923],\n",
              "        [0.4287, 0.4598, 0.7837],\n",
              "        [0.6679, 0.7993, 0.9493],\n",
              "        [0.9387, 0.5827, 0.2472],\n",
              "        [0.5141, 0.1862, 0.1526],\n",
              "        [0.2660, 0.8589, 0.1711],\n",
              "        [0.6977, 0.4569, 0.3934],\n",
              "        [0.6463, 0.5387, 0.4864],\n",
              "        [0.1514, 0.7169, 0.7318],\n",
              "        [0.8461, 0.3132, 0.0948],\n",
              "        [0.7739, 0.3113, 0.7095],\n",
              "        [0.9036, 0.8213, 0.1627],\n",
              "        [0.5123, 0.8916, 0.2784],\n",
              "        [0.2511, 0.2540, 0.0107],\n",
              "        [0.1226, 0.9809, 0.1166],\n",
              "        [0.4702, 0.1259, 0.2122],\n",
              "        [0.4671, 0.0538, 0.5136],\n",
              "        [0.8656, 0.5689, 0.9900],\n",
              "        [0.2180, 0.8881, 0.4611],\n",
              "        [0.4844, 0.4881, 0.3211],\n",
              "        [0.1244, 0.4101, 0.5014],\n",
              "        [0.2315, 0.9884, 0.6483],\n",
              "        [0.8010, 0.0353, 0.6956],\n",
              "        [0.5334, 0.6286, 0.9666],\n",
              "        [0.0169, 0.1275, 0.5106],\n",
              "        [0.3678, 0.2383, 0.6054],\n",
              "        [0.8794, 0.0526, 0.9280],\n",
              "        [0.9576, 0.3802, 0.2583],\n",
              "        [0.3949, 0.8730, 0.5349],\n",
              "        [0.9187, 0.2520, 0.3275],\n",
              "        [0.8782, 0.9022, 0.7772],\n",
              "        [0.9692, 0.0972, 0.7565],\n",
              "        [0.5445, 0.2013, 0.4946],\n",
              "        [0.5274, 0.6194, 0.1098],\n",
              "        [0.7031, 0.7567, 0.7492],\n",
              "        [0.8957, 0.7015, 0.0333],\n",
              "        [0.0428, 0.9925, 0.1199],\n",
              "        [0.8934, 0.3283, 0.8098],\n",
              "        [0.3396, 0.0701, 0.3308],\n",
              "        [0.4994, 0.5988, 0.0790],\n",
              "        [0.6687, 0.9164, 0.0682],\n",
              "        [0.3766, 0.5260, 0.1741],\n",
              "        [0.3580, 0.7426, 0.0738],\n",
              "        [0.8815, 0.0278, 0.6851],\n",
              "        [0.0813, 0.3914, 0.4523],\n",
              "        [0.4632, 0.8862, 0.8291],\n",
              "        [0.3939, 0.2179, 0.9374],\n",
              "        [0.6557, 0.1234, 0.7093],\n",
              "        [0.6085, 0.2163, 0.4403],\n",
              "        [0.2671, 0.4578, 0.1094],\n",
              "        [0.6718, 0.1542, 0.4229],\n",
              "        [0.1499, 0.0574, 0.6258],\n",
              "        [0.1719, 0.0058, 0.6828],\n",
              "        [0.2568, 0.0976, 0.3046],\n",
              "        [0.5858, 0.8628, 0.1174],\n",
              "        [0.4379, 0.1056, 0.6223],\n",
              "        [0.1469, 0.1543, 0.2018],\n",
              "        [0.1677, 0.5190, 0.6274],\n",
              "        [0.5997, 0.5565, 0.5283],\n",
              "        [0.0269, 0.0892, 0.3213],\n",
              "        [0.5314, 0.8579, 0.2888],\n",
              "        [0.8636, 0.7725, 0.2153],\n",
              "        [0.7276, 0.6553, 0.7123],\n",
              "        [0.5312, 0.3751, 0.7446],\n",
              "        [0.2877, 0.6768, 0.8120],\n",
              "        [0.6913, 0.2942, 0.1366],\n",
              "        [0.8004, 0.7078, 0.2756],\n",
              "        [0.4711, 0.0795, 0.1742],\n",
              "        [0.6599, 0.7301, 0.1408],\n",
              "        [0.3844, 0.5809, 0.7809],\n",
              "        [0.0271, 0.7696, 0.5380],\n",
              "        [0.1731, 0.7597, 0.3131],\n",
              "        [0.2278, 0.8448, 0.7211],\n",
              "        [0.8413, 0.6425, 0.7799],\n",
              "        [0.7539, 0.8126, 0.1947],\n",
              "        [0.5731, 0.9539, 0.1957],\n",
              "        [0.3390, 0.0133, 0.0339],\n",
              "        [0.0612, 0.7204, 0.4966],\n",
              "        [0.5738, 0.5233, 0.4173],\n",
              "        [0.2184, 0.5036, 0.9268],\n",
              "        [0.7802, 0.0938, 0.5879],\n",
              "        [0.7421, 0.9347, 0.9026],\n",
              "        [0.7001, 0.9999, 0.9487],\n",
              "        [0.7563, 0.9988, 0.7199],\n",
              "        [0.2341, 0.3210, 0.1249],\n",
              "        [0.4308, 0.4903, 0.2618],\n",
              "        [0.4445, 0.5587, 0.3575],\n",
              "        [0.2727, 0.3412, 0.6942],\n",
              "        [0.5698, 0.8194, 0.5574],\n",
              "        [0.6586, 0.3850, 0.2110],\n",
              "        [0.9108, 0.9169, 0.0373],\n",
              "        [0.3232, 0.3215, 0.6383],\n",
              "        [0.8343, 0.3807, 0.5097],\n",
              "        [0.5101, 0.4576, 0.4931],\n",
              "        [0.9384, 0.1594, 0.2628],\n",
              "        [0.2204, 0.6105, 0.1640],\n",
              "        [0.9108, 0.4458, 0.7184],\n",
              "        [0.3478, 0.2629, 0.6005],\n",
              "        [0.1361, 0.0466, 0.9623],\n",
              "        [0.0235, 0.4979, 0.7626],\n",
              "        [0.1596, 0.6161, 0.5575],\n",
              "        [0.5102, 0.6988, 0.8253],\n",
              "        [0.5052, 0.7020, 0.6792],\n",
              "        [0.1239, 0.5464, 0.2641],\n",
              "        [0.5108, 0.6184, 0.3994],\n",
              "        [0.7120, 0.8405, 0.9951],\n",
              "        [0.8255, 0.1514, 0.8205],\n",
              "        [0.1930, 0.9886, 0.2288],\n",
              "        [0.3133, 0.7461, 0.7616],\n",
              "        [0.5666, 0.0556, 0.9762],\n",
              "        [0.2944, 0.6959, 0.4884],\n",
              "        [0.0255, 0.1117, 0.8136],\n",
              "        [0.2359, 0.1605, 0.9261],\n",
              "        [0.9714, 0.6929, 0.4427],\n",
              "        [0.1575, 0.9469, 0.5147],\n",
              "        [0.0476, 0.8999, 0.2664],\n",
              "        [0.4270, 0.1936, 0.5307],\n",
              "        [0.7311, 0.7938, 0.3126],\n",
              "        [0.6867, 0.9133, 0.0559],\n",
              "        [0.8352, 0.4664, 0.9860],\n",
              "        [0.5615, 0.0340, 0.4001],\n",
              "        [0.9403, 0.8341, 0.7916],\n",
              "        [0.1692, 0.9889, 0.0634],\n",
              "        [0.1657, 0.0914, 0.0474],\n",
              "        [0.9780, 0.5942, 0.2659],\n",
              "        [0.9398, 0.7302, 0.9930],\n",
              "        [0.3602, 0.0621, 0.0316],\n",
              "        [0.2989, 0.1877, 0.1255],\n",
              "        [0.0194, 0.2641, 0.0607],\n",
              "        [0.7333, 0.9188, 0.1253],\n",
              "        [0.1788, 0.7461, 0.7974],\n",
              "        [0.6981, 0.6933, 0.4548],\n",
              "        [0.7999, 0.0657, 0.7745],\n",
              "        [0.2366, 0.8124, 0.4658],\n",
              "        [0.1831, 0.6241, 0.2169],\n",
              "        [0.1513, 0.7711, 0.4516],\n",
              "        [0.7682, 0.3007, 0.8299],\n",
              "        [0.5879, 0.3718, 0.5368],\n",
              "        [0.7417, 0.2954, 0.5041],\n",
              "        [0.1499, 0.4104, 0.1134],\n",
              "        [0.9985, 0.9787, 0.3233],\n",
              "        [0.8461, 0.5707, 0.2785],\n",
              "        [0.9361, 0.6054, 0.3493],\n",
              "        [0.5636, 0.7632, 0.5349],\n",
              "        [0.4618, 0.9823, 0.2967],\n",
              "        [0.6802, 0.2834, 0.9539],\n",
              "        [0.1646, 0.6056, 0.6376],\n",
              "        [0.1659, 0.4356, 0.5172],\n",
              "        [0.8256, 0.3907, 0.9161],\n",
              "        [0.3856, 0.5938, 0.5086],\n",
              "        [0.1980, 0.0915, 0.1313],\n",
              "        [0.2201, 0.5074, 0.6046],\n",
              "        [0.5557, 0.5510, 0.1573],\n",
              "        [0.9194, 0.0810, 0.3546],\n",
              "        [0.3984, 0.5153, 0.4796],\n",
              "        [0.2724, 0.6243, 0.5751],\n",
              "        [0.3227, 0.2651, 0.0240],\n",
              "        [0.3443, 0.1412, 0.8477],\n",
              "        [0.3328, 0.1810, 0.6596],\n",
              "        [0.7287, 0.3584, 0.3442],\n",
              "        [0.9266, 0.2605, 0.9407],\n",
              "        [0.7202, 0.0143, 0.6551],\n",
              "        [0.6269, 0.9817, 0.5323],\n",
              "        [0.5832, 0.0275, 0.8058],\n",
              "        [0.1077, 0.7653, 0.3298],\n",
              "        [0.3282, 0.7393, 0.5506],\n",
              "        [0.8925, 0.7796, 0.4244],\n",
              "        [0.3754, 0.5318, 0.2698],\n",
              "        [0.7764, 0.7185, 0.5795],\n",
              "        [0.7684, 0.0827, 0.1045],\n",
              "        [0.4952, 0.7372, 0.6030],\n",
              "        [0.2494, 0.8419, 0.7575],\n",
              "        [0.9497, 0.6900, 0.4304],\n",
              "        [0.0285, 0.8261, 0.1684],\n",
              "        [0.0273, 0.9569, 0.2452],\n",
              "        [0.0987, 0.2792, 0.5595],\n",
              "        [0.6147, 0.3380, 0.0497],\n",
              "        [0.0123, 0.4641, 0.8306],\n",
              "        [0.6532, 0.8609, 0.8885],\n",
              "        [0.1827, 0.7964, 0.0447],\n",
              "        [0.6459, 0.9743, 0.9423],\n",
              "        [0.5801, 0.1639, 0.0646],\n",
              "        [0.8329, 0.8896, 0.4549],\n",
              "        [0.6588, 0.3483, 0.7402],\n",
              "        [0.4788, 0.4517, 0.1451],\n",
              "        [0.3082, 0.9801, 0.2578],\n",
              "        [0.9567, 0.4534, 0.2066],\n",
              "        [0.7475, 0.0599, 0.8400],\n",
              "        [0.1859, 0.9514, 0.0313],\n",
              "        [0.1990, 0.8096, 0.2162],\n",
              "        [0.4177, 0.6394, 0.8837],\n",
              "        [0.8478, 0.8678, 0.5052],\n",
              "        [0.8725, 0.6339, 0.4916],\n",
              "        [0.6604, 0.9295, 0.5177],\n",
              "        [0.7455, 0.0857, 0.9294],\n",
              "        [0.3491, 0.0674, 0.0043],\n",
              "        [0.9559, 0.9186, 0.3671],\n",
              "        [0.5552, 0.5723, 0.2803],\n",
              "        [0.6635, 0.2587, 0.4727],\n",
              "        [0.1910, 0.3054, 0.3040],\n",
              "        [0.5857, 0.2554, 0.1973],\n",
              "        [0.8744, 0.3003, 0.0021],\n",
              "        [0.8927, 0.8764, 0.4347]])"
            ]
          },
          "metadata": {},
          "execution_count": 16
        }
      ]
    },
    {
      "cell_type": "code",
      "source": [
        "random_image_size_tensor.ndim"
      ],
      "metadata": {
        "colab": {
          "base_uri": "https://localhost:8080/"
        },
        "id": "QzkJl746aopy",
        "outputId": "9920ce89-1979-480c-b8cc-c232f35c83c7"
      },
      "execution_count": null,
      "outputs": [
        {
          "output_type": "execute_result",
          "data": {
            "text/plain": [
              "3"
            ]
          },
          "metadata": {},
          "execution_count": 17
        }
      ]
    },
    {
      "cell_type": "code",
      "source": [
        "random_image_size_tensor = torch.rand(size=(3,224,224))\n",
        "random_image_size_tensor"
      ],
      "metadata": {
        "colab": {
          "base_uri": "https://localhost:8080/"
        },
        "id": "Rd_PjAFrd8EC",
        "outputId": "8aeba67c-4fb0-4272-a546-8839a3d3379f"
      },
      "execution_count": null,
      "outputs": [
        {
          "output_type": "execute_result",
          "data": {
            "text/plain": [
              "tensor([[[0.2617, 0.2406, 0.7433,  ..., 0.2927, 0.2642, 0.3442],\n",
              "         [0.3056, 0.5090, 0.3599,  ..., 0.1889, 0.3666, 0.1728],\n",
              "         [0.3323, 0.4492, 0.2020,  ..., 0.4498, 0.5064, 0.3891],\n",
              "         ...,\n",
              "         [0.3917, 0.2910, 0.2227,  ..., 0.0319, 0.2953, 0.4543],\n",
              "         [0.1746, 0.4967, 0.8628,  ..., 0.0316, 0.3206, 0.4223],\n",
              "         [0.5979, 0.2980, 0.7464,  ..., 0.0836, 0.7663, 0.4866]],\n",
              "\n",
              "        [[0.2443, 0.9165, 0.1657,  ..., 0.8847, 0.9295, 0.4956],\n",
              "         [0.1738, 0.2226, 0.1628,  ..., 0.9183, 0.9558, 0.8577],\n",
              "         [0.7225, 0.5153, 0.0626,  ..., 0.0443, 0.6665, 0.6954],\n",
              "         ...,\n",
              "         [0.4454, 0.4023, 0.8935,  ..., 0.5735, 0.9941, 0.0103],\n",
              "         [0.8624, 0.1409, 0.0804,  ..., 0.5293, 0.8449, 0.3134],\n",
              "         [0.7441, 0.1776, 0.7630,  ..., 0.2348, 0.1600, 0.7252]],\n",
              "\n",
              "        [[0.4115, 0.3945, 0.3995,  ..., 0.7184, 0.5400, 0.0030],\n",
              "         [0.3420, 0.0813, 0.3200,  ..., 0.0423, 0.5788, 0.0586],\n",
              "         [0.2924, 0.2756, 0.2534,  ..., 0.5952, 0.0462, 0.1593],\n",
              "         ...,\n",
              "         [0.7066, 0.4133, 0.3583,  ..., 0.5998, 0.6568, 0.3801],\n",
              "         [0.3915, 0.0704, 0.9934,  ..., 0.5087, 0.7528, 0.6215],\n",
              "         [0.1070, 0.6445, 0.9809,  ..., 0.6365, 0.0288, 0.0051]]])"
            ]
          },
          "metadata": {},
          "execution_count": 18
        }
      ]
    },
    {
      "cell_type": "markdown",
      "source": [
        "random_image_size_tensor.shape"
      ],
      "metadata": {
        "id": "4qQAx1ArejDa"
      }
    },
    {
      "cell_type": "code",
      "source": [
        "random_image_size_tensor.ndim"
      ],
      "metadata": {
        "colab": {
          "base_uri": "https://localhost:8080/"
        },
        "id": "EocWhEeDfCFC",
        "outputId": "598654b5-497a-42df-e2d0-631067bde70c"
      },
      "execution_count": null,
      "outputs": [
        {
          "output_type": "execute_result",
          "data": {
            "text/plain": [
              "3"
            ]
          },
          "metadata": {},
          "execution_count": 20
        }
      ]
    },
    {
      "cell_type": "code",
      "source": [
        "random_image_size_tensor[2]"
      ],
      "metadata": {
        "colab": {
          "base_uri": "https://localhost:8080/"
        },
        "id": "8QvHcXC_fLn8",
        "outputId": "9280ef29-8b75-4c86-aa97-f5946b1e27a9"
      },
      "execution_count": null,
      "outputs": [
        {
          "output_type": "execute_result",
          "data": {
            "text/plain": [
              "tensor([[0.4115, 0.3945, 0.3995,  ..., 0.7184, 0.5400, 0.0030],\n",
              "        [0.3420, 0.0813, 0.3200,  ..., 0.0423, 0.5788, 0.0586],\n",
              "        [0.2924, 0.2756, 0.2534,  ..., 0.5952, 0.0462, 0.1593],\n",
              "        ...,\n",
              "        [0.7066, 0.4133, 0.3583,  ..., 0.5998, 0.6568, 0.3801],\n",
              "        [0.3915, 0.0704, 0.9934,  ..., 0.5087, 0.7528, 0.6215],\n",
              "        [0.1070, 0.6445, 0.9809,  ..., 0.6365, 0.0288, 0.0051]])"
            ]
          },
          "metadata": {},
          "execution_count": 23
        }
      ]
    },
    {
      "cell_type": "code",
      "source": [
        "zeros = torch.zeros(size=(3,4))\n",
        "zeros, zeros.dtype"
      ],
      "metadata": {
        "colab": {
          "base_uri": "https://localhost:8080/"
        },
        "id": "8WLcGCDBfeii",
        "outputId": "2ecde30d-af20-4479-af1f-d18251ea7050"
      },
      "execution_count": null,
      "outputs": [
        {
          "output_type": "execute_result",
          "data": {
            "text/plain": [
              "(tensor([[0., 0., 0., 0.],\n",
              "         [0., 0., 0., 0.],\n",
              "         [0., 0., 0., 0.]]), torch.float32)"
            ]
          },
          "metadata": {},
          "execution_count": 26
        }
      ]
    },
    {
      "cell_type": "code",
      "source": [
        "ones = torch.ones(size=(2,3))\n",
        "ones, ones.dtype"
      ],
      "metadata": {
        "colab": {
          "base_uri": "https://localhost:8080/"
        },
        "id": "XKOsFuw_f4hh",
        "outputId": "8b484153-56b3-468a-9483-28f49080f250"
      },
      "execution_count": null,
      "outputs": [
        {
          "output_type": "execute_result",
          "data": {
            "text/plain": [
              "(tensor([[1., 1., 1.],\n",
              "         [1., 1., 1.]]), torch.float32)"
            ]
          },
          "metadata": {},
          "execution_count": 27
        }
      ]
    },
    {
      "cell_type": "code",
      "source": [
        "arrange_zero_to_ten = torch.arange(start=0,end=10,step=1)\n",
        "arrange_zero_to_ten"
      ],
      "metadata": {
        "colab": {
          "base_uri": "https://localhost:8080/"
        },
        "id": "7F9l7-hMgXbg",
        "outputId": "8417baf6-44ad-421c-f1f6-96c2436e7cd6"
      },
      "execution_count": null,
      "outputs": [
        {
          "output_type": "execute_result",
          "data": {
            "text/plain": [
              "tensor([0, 1, 2, 3, 4, 5, 6, 7, 8, 9])"
            ]
          },
          "metadata": {},
          "execution_count": 28
        }
      ]
    },
    {
      "cell_type": "code",
      "source": [
        "ten_zeros = torch.zeros_like(input=arrange_zero_to_ten)\n",
        "ten_zeros"
      ],
      "metadata": {
        "colab": {
          "base_uri": "https://localhost:8080/"
        },
        "id": "WAkeiNspgys2",
        "outputId": "54587c4e-c1cd-42c7-e6a2-db05055d36b5"
      },
      "execution_count": null,
      "outputs": [
        {
          "output_type": "execute_result",
          "data": {
            "text/plain": [
              "tensor([0, 0, 0, 0, 0, 0, 0, 0, 0, 0])"
            ]
          },
          "metadata": {},
          "execution_count": 29
        }
      ]
    },
    {
      "cell_type": "code",
      "source": [
        "float_32_tensor = torch.tensor([3.0,6.0,9.0], dtype=None, device=None, requires_grad = False)\n",
        "float_32_tensor, float_32_tensor.dtype, float_32_tensor.device"
      ],
      "metadata": {
        "colab": {
          "base_uri": "https://localhost:8080/"
        },
        "id": "_JDLpBuZhKlC",
        "outputId": "44780a40-e3a9-435f-ade7-c34ef108a348"
      },
      "execution_count": null,
      "outputs": [
        {
          "output_type": "execute_result",
          "data": {
            "text/plain": [
              "(tensor([3., 6., 9.]), torch.float32, device(type='cpu'))"
            ]
          },
          "metadata": {},
          "execution_count": 30
        }
      ]
    },
    {
      "cell_type": "code",
      "source": [],
      "metadata": {
        "id": "iQ7SNIe6iC5i"
      },
      "execution_count": null,
      "outputs": []
    }
  ]
}