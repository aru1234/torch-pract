{
 "cells": [
  {
   "cell_type": "markdown",
   "metadata": {
    "colab_type": "text",
    "id": "view-in-github"
   },
   "source": [
    "<a href=\"https://colab.research.google.com/github/aru1234/torch-pract/blob/main/Pytorch_Practice.ipynb\" target=\"_parent\"><img src=\"https://colab.research.google.com/assets/colab-badge.svg\" alt=\"Open In Colab\"/></a>"
   ]
  },
  {
   "cell_type": "code",
   "execution_count": 1,
   "metadata": {
    "colab": {
     "base_uri": "https://localhost:8080/"
    },
    "id": "bt9vHsHloyn8",
    "outputId": "ab55e8da-40c3-4aba-8438-9980e77232db"
   },
   "outputs": [
    {
     "ename": "ModuleNotFoundError",
     "evalue": "No module named 'torch'",
     "output_type": "error",
     "traceback": [
      "\u001b[1;31m---------------------------------------------------------------------------\u001b[0m",
      "\u001b[1;31mModuleNotFoundError\u001b[0m                       Traceback (most recent call last)",
      "Cell \u001b[1;32mIn[1], line 1\u001b[0m\n\u001b[1;32m----> 1\u001b[0m \u001b[38;5;28;01mimport\u001b[39;00m \u001b[38;5;21;01mtorch\u001b[39;00m\n\u001b[0;32m      2\u001b[0m scalar \u001b[38;5;241m=\u001b[39m torch\u001b[38;5;241m.\u001b[39mtensor(\u001b[38;5;241m18\u001b[39m)\n\u001b[0;32m      3\u001b[0m scalar\n",
      "\u001b[1;31mModuleNotFoundError\u001b[0m: No module named 'torch'"
     ]
    }
   ],
   "source": [
    "import torch\n",
    "scalar = torch.tensor(18)\n",
    "scalar"
   ]
  },
  {
   "cell_type": "code",
   "execution_count": null,
   "metadata": {
    "colab": {
     "base_uri": "https://localhost:8080/"
    },
    "id": "n7X1mlNC1TXZ",
    "outputId": "66793123-e672-4a36-d2c7-e38e2e821086"
   },
   "outputs": [],
   "source": [
    "vector = torch.tensor([4,18])\n",
    "vector"
   ]
  },
  {
   "cell_type": "code",
   "execution_count": null,
   "metadata": {
    "colab": {
     "base_uri": "https://localhost:8080/"
    },
    "id": "E0vo1b-n1hfS",
    "outputId": "28b46aba-3f1d-48fe-ba1e-5b4bb76cd136"
   },
   "outputs": [],
   "source": [
    "matrix = torch.tensor([[2,1],[3,2]])\n",
    "matrix"
   ]
  },
  {
   "cell_type": "code",
   "execution_count": null,
   "metadata": {
    "colab": {
     "base_uri": "https://localhost:8080/"
    },
    "id": "3RsWnrPT1sPw",
    "outputId": "6314f1bb-2357-419a-c9c5-5fb0c9c2cb74"
   },
   "outputs": [],
   "source": [
    "print(matrix.ndim)\n",
    "print(vector.ndim)\n",
    "print(scalar.ndim)"
   ]
  },
  {
   "cell_type": "code",
   "execution_count": null,
   "metadata": {
    "colab": {
     "base_uri": "https://localhost:8080/"
    },
    "id": "LcbdWeAD17-g",
    "outputId": "1dcadd0e-a077-42a2-92b5-610f6438b406"
   },
   "outputs": [],
   "source": [
    "print(matrix.shape)\n",
    "print(vector.shape)\n",
    "print(scalar.shape)"
   ]
  },
  {
   "cell_type": "code",
   "execution_count": null,
   "metadata": {
    "colab": {
     "base_uri": "https://localhost:8080/"
    },
    "id": "H9jlpWG-3dcB",
    "outputId": "b9061b22-8187-4aa6-d9e0-dc21e9ff580e"
   },
   "outputs": [],
   "source": [
    "MATRIX = torch.tensor([[[1,2,3],\n",
    "                        [4,5,6],\n",
    "                        [7,8,9]]])\n",
    "MATRIX"
   ]
  },
  {
   "cell_type": "code",
   "execution_count": null,
   "metadata": {
    "colab": {
     "base_uri": "https://localhost:8080/"
    },
    "id": "YbvgEXof4jBa",
    "outputId": "63563d55-34f2-459e-f419-1e3df079f3ef"
   },
   "outputs": [],
   "source": [
    "print(MATRIX.ndim)\n",
    "print(MATRIX.shape)\n",
    "print(MATRIX[0])"
   ]
  },
  {
   "cell_type": "code",
   "execution_count": null,
   "metadata": {
    "colab": {
     "base_uri": "https://localhost:8080/"
    },
    "id": "vBK5JjUD48Ax",
    "outputId": "f48cac09-c19d-4515-fe80-9070a908076c"
   },
   "outputs": [],
   "source": [
    "print(MATRIX[0][2][0])"
   ]
  },
  {
   "cell_type": "code",
   "execution_count": null,
   "metadata": {
    "colab": {
     "base_uri": "https://localhost:8080/"
    },
    "id": "Y73-dpunZQCC",
    "outputId": "b884a73c-86b5-43d6-a35e-65a9bfdd8652"
   },
   "outputs": [],
   "source": [
    "random_tensor = torch.rand(size=(3,4))\n",
    "random_tensor, random_tensor.dtype"
   ]
  },
  {
   "cell_type": "code",
   "execution_count": null,
   "metadata": {
    "colab": {
     "base_uri": "https://localhost:8080/"
    },
    "id": "T97N1FasZsHx",
    "outputId": "9a3bea67-07c7-4f49-a212-1cd0c063b7d2"
   },
   "outputs": [],
   "source": [
    "random_image_size_tensor = torch.rand(224,224,3)\n",
    "random_image_size_tensor"
   ]
  },
  {
   "cell_type": "code",
   "execution_count": null,
   "metadata": {
    "colab": {
     "base_uri": "https://localhost:8080/"
    },
    "id": "F_zSMDYgZjri",
    "outputId": "770148f2-ca6e-4ec8-f8e4-67ec0414a36d"
   },
   "outputs": [],
   "source": [
    "random_image_size_tensor.shape"
   ]
  },
  {
   "cell_type": "code",
   "execution_count": null,
   "metadata": {
    "colab": {
     "base_uri": "https://localhost:8080/"
    },
    "id": "VxifGDcoaIKN",
    "outputId": "6e05a804-2a51-401b-88d1-ca51dcbc3ecc"
   },
   "outputs": [],
   "source": [
    "random_image_size_tensor[2]"
   ]
  },
  {
   "cell_type": "code",
   "execution_count": null,
   "metadata": {
    "colab": {
     "base_uri": "https://localhost:8080/"
    },
    "id": "QzkJl746aopy",
    "outputId": "9920ce89-1979-480c-b8cc-c232f35c83c7"
   },
   "outputs": [],
   "source": [
    "random_image_size_tensor.ndim"
   ]
  },
  {
   "cell_type": "code",
   "execution_count": null,
   "metadata": {
    "colab": {
     "base_uri": "https://localhost:8080/"
    },
    "id": "Rd_PjAFrd8EC",
    "outputId": "8aeba67c-4fb0-4272-a546-8839a3d3379f"
   },
   "outputs": [],
   "source": [
    "random_image_size_tensor = torch.rand(size=(3,224,224))\n",
    "random_image_size_tensor"
   ]
  },
  {
   "cell_type": "markdown",
   "metadata": {
    "id": "4qQAx1ArejDa"
   },
   "source": [
    "random_image_size_tensor.shape"
   ]
  },
  {
   "cell_type": "code",
   "execution_count": null,
   "metadata": {
    "colab": {
     "base_uri": "https://localhost:8080/"
    },
    "id": "EocWhEeDfCFC",
    "outputId": "598654b5-497a-42df-e2d0-631067bde70c"
   },
   "outputs": [],
   "source": [
    "random_image_size_tensor.ndim"
   ]
  },
  {
   "cell_type": "code",
   "execution_count": null,
   "metadata": {
    "colab": {
     "base_uri": "https://localhost:8080/"
    },
    "id": "8QvHcXC_fLn8",
    "outputId": "9280ef29-8b75-4c86-aa97-f5946b1e27a9"
   },
   "outputs": [],
   "source": [
    "random_image_size_tensor[2]"
   ]
  },
  {
   "cell_type": "code",
   "execution_count": null,
   "metadata": {
    "colab": {
     "base_uri": "https://localhost:8080/"
    },
    "id": "8WLcGCDBfeii",
    "outputId": "2ecde30d-af20-4479-af1f-d18251ea7050"
   },
   "outputs": [],
   "source": [
    "zeros = torch.zeros(size=(3,4))\n",
    "zeros, zeros.dtype"
   ]
  },
  {
   "cell_type": "code",
   "execution_count": null,
   "metadata": {
    "colab": {
     "base_uri": "https://localhost:8080/"
    },
    "id": "XKOsFuw_f4hh",
    "outputId": "8b484153-56b3-468a-9483-28f49080f250"
   },
   "outputs": [],
   "source": [
    "ones = torch.ones(size=(2,3))\n",
    "ones, ones.dtype"
   ]
  },
  {
   "cell_type": "code",
   "execution_count": null,
   "metadata": {
    "colab": {
     "base_uri": "https://localhost:8080/"
    },
    "id": "7F9l7-hMgXbg",
    "outputId": "8417baf6-44ad-421c-f1f6-96c2436e7cd6"
   },
   "outputs": [],
   "source": [
    "arrange_zero_to_ten = torch.arange(start=0,end=10,step=1)\n",
    "arrange_zero_to_ten"
   ]
  },
  {
   "cell_type": "code",
   "execution_count": null,
   "metadata": {
    "colab": {
     "base_uri": "https://localhost:8080/"
    },
    "id": "WAkeiNspgys2",
    "outputId": "54587c4e-c1cd-42c7-e6a2-db05055d36b5"
   },
   "outputs": [],
   "source": [
    "ten_zeros = torch.zeros_like(input=arrange_zero_to_ten)\n",
    "ten_zeros"
   ]
  },
  {
   "cell_type": "code",
   "execution_count": null,
   "metadata": {
    "colab": {
     "base_uri": "https://localhost:8080/"
    },
    "id": "_JDLpBuZhKlC",
    "outputId": "44780a40-e3a9-435f-ade7-c34ef108a348"
   },
   "outputs": [],
   "source": [
    "float_32_tensor = torch.tensor([3.0,6.0,9.0], dtype=None, device=None, requires_grad = False)\n",
    "float_32_tensor, float_32_tensor.dtype, float_32_tensor.device"
   ]
  },
  {
   "cell_type": "code",
   "execution_count": null,
   "metadata": {
    "id": "iQ7SNIe6iC5i"
   },
   "outputs": [],
   "source": []
  }
 ],
 "metadata": {
  "colab": {
   "authorship_tag": "ABX9TyOgfywDEkdsyCci8LvaYRC5",
   "include_colab_link": true,
   "provenance": []
  },
  "kernelspec": {
   "display_name": "Python 3 (ipykernel)",
   "language": "python",
   "name": "python3"
  },
  "language_info": {
   "codemirror_mode": {
    "name": "ipython",
    "version": 3
   },
   "file_extension": ".py",
   "mimetype": "text/x-python",
   "name": "python",
   "nbconvert_exporter": "python",
   "pygments_lexer": "ipython3",
   "version": "3.9.5"
  }
 },
 "nbformat": 4,
 "nbformat_minor": 1
}
